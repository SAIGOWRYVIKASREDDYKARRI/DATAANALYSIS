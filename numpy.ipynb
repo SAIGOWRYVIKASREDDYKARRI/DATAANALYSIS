{
  "nbformat": 4,
  "nbformat_minor": 0,
  "metadata": {
    "colab": {
      "provenance": []
    },
    "kernelspec": {
      "name": "python3",
      "display_name": "Python 3"
    },
    "language_info": {
      "name": "python"
    }
  },
  "cells": [
    {
      "cell_type": "code",
      "execution_count": null,
      "metadata": {
        "id": "mkYI7yaTp8w-",
        "colab": {
          "base_uri": "https://localhost:8080/"
        },
        "outputId": "c4b1d2fa-3c24-4883-9a34-456de2b678f3"
      },
      "outputs": [
        {
          "output_type": "stream",
          "name": "stdout",
          "text": [
            "[1. 2. 3. 4. 5.]\n"
          ]
        }
      ],
      "source": [
        "import numpy as np\n",
        "#creating an array\n",
        "arr = np.array([1,2,3,4,5],dtype=float)\n",
        "print(arr)"
      ]
    },
    {
      "cell_type": "code",
      "source": [
        "import numpy as np\n",
        "#creating an array\n",
        "arr = np.array([1,2,3,4,5],dtype=float)\n",
        "print(arr)\n",
        "z=np.zeros((3,3),dtype=float)\n",
        "print(z)\n",
        "o=np.ones((3,3),dtype=int)\n",
        "print(o)\n",
        "arange_arr=np.arange(10)\n",
        "print(arange_arr)\n",
        "#Array manipulation\n",
        "arr = np.array([1,2,3,4,5],dtype=float)\n",
        "reshape_arr=arr.reshape(5,1)\n",
        "print(reshape_arr)\n",
        "slice=arr[2:4]\n",
        "print(slice)\n",
        "a=np.array([1,2,3,4,5,6,7,8])\n",
        "trans=a.T\n",
        "print(trans)\n",
        "b=np.split(a,4)\n",
        "print(b)\n",
        "a=np.array([[1,2],[3,4]])\n",
        "b=np.array([[5,8],[3,9]])\n",
        "c=np.dot(a,b)\n",
        "print(c)\n",
        "#linalg-linear algebra eig-eigenvalues\n",
        "d=np.linalg.eig(c)\n",
        "print(d)\n",
        "dat=np.loadtxt(\"/content/drive/MyDrive/dataset/data.txt.txt\",dtype=int)\n",
        "d=np.savetxt(\"/content/date.txt.txt\",dat)\n",
        "print(d)\n",
        "print(dat)\n",
        "a=np.arange(0,1000,10)\n",
        "print(a)\n",
        "d=np.savetxt(\"/content/dat.txt.txt\",a)\n",
        "print(d)\n",
        "a=np.random.rand()\n",
        "print(a)\n",
        "b=np.random.randint(0,2)\n",
        "print(b)\n",
        "print(type(a))\n",
        "a=np.array([[1,2],[3,4]])\n",
        "print(type(a))\n",
        "print(a.ndim)\n",
        "print(a.shape)\n",
        "m=np.linspace(0.8,3,5)\n",
        "print(m)\n",
        "p=np.arange(0,6)\n",
        "print(p)\n",
        "n=np.arange(24).reshape(1,4,6)\n",
        "s=np.arange(24).reshape(2,3,4)\n",
        "a=np.arange(24).reshape(3,2,4)\n",
        "print(a)\n",
        "a=np.array([[1,2],[3,5]])\n",
        "b=np.array([[3,4],[6,7]])\n",
        "print(a*b)\n",
        "print(a@b)\n",
        "t=np.dot(a,b)\n",
        "print(t)\n",
        "a=np.arange(24).reshape(4,2,3)\n",
        "print(a)"
      ],
      "metadata": {
        "colab": {
          "base_uri": "https://localhost:8080/"
        },
        "id": "6gaXscbMqB9n",
        "outputId": "73d020c5-b2b8-4816-9ef5-82ba90451367"
      },
      "execution_count": null,
      "outputs": [
        {
          "output_type": "stream",
          "name": "stdout",
          "text": [
            "[1. 2. 3. 4. 5.]\n",
            "[[0. 0. 0.]\n",
            " [0. 0. 0.]\n",
            " [0. 0. 0.]]\n",
            "[[1 1 1]\n",
            " [1 1 1]\n",
            " [1 1 1]]\n",
            "[0 1 2 3 4 5 6 7 8 9]\n",
            "[[1.]\n",
            " [2.]\n",
            " [3.]\n",
            " [4.]\n",
            " [5.]]\n",
            "[3. 4.]\n",
            "[1 2 3 4 5 6 7 8]\n",
            "[array([1, 2]), array([3, 4]), array([5, 6]), array([7, 8])]\n",
            "[[11 26]\n",
            " [27 60]]\n",
            "EigResult(eigenvalues=array([-0.58670115, 71.58670115]), eigenvectors=array([[-0.91340501, -0.3943584 ],\n",
            "       [ 0.40705196, -0.91895672]]))\n",
            "None\n",
            "[[1 2 3]\n",
            " [4 5 6]\n",
            " [9 8 7]]\n",
            "[  0  10  20  30  40  50  60  70  80  90 100 110 120 130 140 150 160 170\n",
            " 180 190 200 210 220 230 240 250 260 270 280 290 300 310 320 330 340 350\n",
            " 360 370 380 390 400 410 420 430 440 450 460 470 480 490 500 510 520 530\n",
            " 540 550 560 570 580 590 600 610 620 630 640 650 660 670 680 690 700 710\n",
            " 720 730 740 750 760 770 780 790 800 810 820 830 840 850 860 870 880 890\n",
            " 900 910 920 930 940 950 960 970 980 990]\n",
            "None\n",
            "0.31517417109519164\n",
            "0\n",
            "<class 'float'>\n",
            "<class 'numpy.ndarray'>\n",
            "2\n",
            "(2, 2)\n",
            "[0.8  1.35 1.9  2.45 3.  ]\n",
            "[0 1 2 3 4 5]\n",
            "[[[ 0  1  2  3]\n",
            "  [ 4  5  6  7]]\n",
            "\n",
            " [[ 8  9 10 11]\n",
            "  [12 13 14 15]]\n",
            "\n",
            " [[16 17 18 19]\n",
            "  [20 21 22 23]]]\n",
            "[[ 3  8]\n",
            " [18 35]]\n",
            "[[15 18]\n",
            " [39 47]]\n",
            "[[15 18]\n",
            " [39 47]]\n",
            "[[[ 0  1  2]\n",
            "  [ 3  4  5]]\n",
            "\n",
            " [[ 6  7  8]\n",
            "  [ 9 10 11]]\n",
            "\n",
            " [[12 13 14]\n",
            "  [15 16 17]]\n",
            "\n",
            " [[18 19 20]\n",
            "  [21 22 23]]]\n"
          ]
        }
      ]
    },
    {
      "cell_type": "code",
      "source": [
        "import numpy as np\n",
        "a=np.array([[1,2],[3,5]])\n",
        "b=np.array([[3,4],[6,7]])\n",
        "print(a*b)"
      ],
      "metadata": {
        "colab": {
          "base_uri": "https://localhost:8080/"
        },
        "id": "Nflk9IxLhqOk",
        "outputId": "8c3517b8-8678-48d3-aa25-1df55111b8c6"
      },
      "execution_count": null,
      "outputs": [
        {
          "output_type": "stream",
          "name": "stdout",
          "text": [
            "[[ 3  8]\n",
            " [18 35]]\n"
          ]
        }
      ]
    },
    {
      "cell_type": "code",
      "source": [
        " import numpy as np\n",
        " np.arange(1,20)\n",
        " #np.arange(1,20,5,dtype=int)\n"
      ],
      "metadata": {
        "colab": {
          "base_uri": "https://localhost:8080/"
        },
        "id": "ZR5mahyP6HCk",
        "outputId": "bdf6f70c-881f-4e4b-a530-cd14d10fefb6"
      },
      "execution_count": null,
      "outputs": [
        {
          "output_type": "execute_result",
          "data": {
            "text/plain": [
              "array([ 1,  2,  3,  4,  5,  6,  7,  8,  9, 10, 11, 12, 13, 14, 15, 16, 17,\n",
              "       18, 19])"
            ]
          },
          "metadata": {},
          "execution_count": 11
        }
      ]
    },
    {
      "cell_type": "code",
      "source": [
        "#linalg-linear algebra eig-eigenvalues\n",
        "d=np.linalg.eig(c)\n",
        "print(d)"
      ],
      "metadata": {
        "id": "fpdiY1-Zhjdt",
        "outputId": "8175c342-c2ad-407a-e576-131b93debbbb",
        "colab": {
          "base_uri": "https://localhost:8080/"
        }
      },
      "execution_count": null,
      "outputs": [
        {
          "output_type": "stream",
          "name": "stdout",
          "text": [
            "EigResult(eigenvalues=array([-0.58670115, 71.58670115]), eigenvectors=array([[-0.91340501, -0.3943584 ],\n",
            "       [ 0.40705196, -0.91895672]]))\n"
          ]
        }
      ]
    },
    {
      "cell_type": "code",
      "source": [],
      "metadata": {
        "id": "QhTTHBWhVzFd"
      },
      "execution_count": null,
      "outputs": []
    },
    {
      "cell_type": "code",
      "source": [
        "#Array manipulation\n",
        "arr = np.array([1,2,3,4,5],dtype=float)\n",
        "reshape_arr=arr.reshape(5,1)\n",
        "print(reshape_arr)\n",
        "slice=arr[2:4]\n",
        "print(slice)\n",
        "a=np.array([1,2,3,4,5,6,7,8])\n",
        "trans=a.T\n",
        "print(trans)\n",
        "b=np.split(a,4)\n",
        "print(b)\n",
        "a=np.array([[1,2],[3,4]])\n",
        "b=np.array([[5,8],[3,9]])\n",
        "c=np.dot(a,b)\n",
        "print(c)"
      ],
      "metadata": {
        "colab": {
          "base_uri": "https://localhost:8080/"
        },
        "id": "41GHOU95gPc6",
        "outputId": "bba75258-5218-48ae-da1c-ab183e8bff82"
      },
      "execution_count": null,
      "outputs": [
        {
          "output_type": "stream",
          "name": "stdout",
          "text": [
            "[[1.]\n",
            " [2.]\n",
            " [3.]\n",
            " [4.]\n",
            " [5.]]\n",
            "[3. 4.]\n",
            "[1 2 3 4 5 6 7 8]\n",
            "[array([1, 2]), array([3, 4]), array([5, 6]), array([7, 8])]\n",
            "[[11 26]\n",
            " [27 60]]\n"
          ]
        }
      ]
    },
    {
      "cell_type": "code",
      "source": [
        "arange_arr=np.arange(10)\n",
        "print(arange_arr)\n"
      ],
      "metadata": {
        "colab": {
          "base_uri": "https://localhost:8080/"
        },
        "id": "xX4WWdJVgDhj",
        "outputId": "4a8d7a45-6293-400d-d4fa-05c191787f32"
      },
      "execution_count": null,
      "outputs": [
        {
          "output_type": "stream",
          "name": "stdout",
          "text": [
            "[0 1 2 3 4 5 6 7 8 9]\n"
          ]
        }
      ]
    },
    {
      "cell_type": "code",
      "source": [
        "z=np.zeros((3,3),dtype=float)\n",
        "print(z)\n",
        "o=np.ones((3,3),dtype=int)\n",
        "print(o)"
      ],
      "metadata": {
        "colab": {
          "base_uri": "https://localhost:8080/"
        },
        "id": "Tj92JHNef9HD",
        "outputId": "8bc6a108-cad9-4685-c5e5-8114d811c925"
      },
      "execution_count": null,
      "outputs": [
        {
          "output_type": "stream",
          "name": "stdout",
          "text": [
            "[[0. 0. 0.]\n",
            " [0. 0. 0.]\n",
            " [0. 0. 0.]]\n",
            "[[1 1 1]\n",
            " [1 1 1]\n",
            " [1 1 1]]\n"
          ]
        }
      ]
    },
    {
      "cell_type": "code",
      "source": [
        "from numpy import random\n",
        "a=np.ones((2,3),dtype=int)\n",
        "print(a)\n",
        "print(a.sum())\n",
        "print(a.sum(axis=1))\n",
        "print(a.sum(axis=0))"
      ],
      "metadata": {
        "colab": {
          "base_uri": "https://localhost:8080/"
        },
        "id": "d8c46BV4X3Ux",
        "outputId": "2857d31f-59d7-4ee1-b1c1-547395d73233"
      },
      "execution_count": null,
      "outputs": [
        {
          "output_type": "stream",
          "name": "stdout",
          "text": [
            "[[1 1 1]\n",
            " [1 1 1]]\n",
            "6\n",
            "[3 3]\n",
            "[2 2 2]\n"
          ]
        }
      ]
    },
    {
      "cell_type": "code",
      "source": [
        "from numpy import random\n",
        "a=np.array([[3,4],[9,6]])\n",
        "print(a)\n",
        "print(a.max())\n",
        "print(a.max(axis=1))\n",
        "print(a.max(axis=0))\n",
        "print(a.min())\n",
        "print(a.min(axis=1))\n",
        "print(a.min(axis=0))"
      ],
      "metadata": {
        "colab": {
          "base_uri": "https://localhost:8080/"
        },
        "id": "txcVwPgrclNY",
        "outputId": "eae2a116-c7fc-4614-cb0b-28897884861e"
      },
      "execution_count": null,
      "outputs": [
        {
          "output_type": "stream",
          "name": "stdout",
          "text": [
            "[[3 4]\n",
            " [9 6]]\n",
            "9\n",
            "[4 9]\n",
            "[9 6]\n",
            "3\n",
            "[3 6]\n",
            "[3 4]\n"
          ]
        }
      ]
    },
    {
      "cell_type": "code",
      "source": [
        "a=np.array([[3,4],[9,6]])\n",
        "print(a)\n",
        "print(a.cumsum())\n",
        "print(a.cumsum(axis=1))\n",
        "print(a.cumsum(axis=0))\n"
      ],
      "metadata": {
        "colab": {
          "base_uri": "https://localhost:8080/"
        },
        "id": "ka6tSs0wdbXX",
        "outputId": "1bb1f700-1dd2-468f-b91d-c52eaf23aeb9"
      },
      "execution_count": null,
      "outputs": [
        {
          "output_type": "stream",
          "name": "stdout",
          "text": [
            "[[3 4]\n",
            " [9 6]]\n",
            "[ 3  7 16 22]\n",
            "[[ 3  7]\n",
            " [ 9 15]]\n",
            "[[ 3  4]\n",
            " [12 10]]\n"
          ]
        }
      ]
    },
    {
      "cell_type": "code",
      "source": [
        "a=np.array([2,3,5,6])\n",
        "print(a)\n",
        "print(a.cumsum())"
      ],
      "metadata": {
        "colab": {
          "base_uri": "https://localhost:8080/"
        },
        "id": "MmZYp-d_dwxM",
        "outputId": "5bf06c0f-376c-4719-a164-b5c926e61a9e"
      },
      "execution_count": null,
      "outputs": [
        {
          "output_type": "stream",
          "name": "stdout",
          "text": [
            "[2 3 5 6]\n",
            "[ 2  5 10 16]\n"
          ]
        }
      ]
    },
    {
      "cell_type": "code",
      "source": [
        "a=np.array([1,2,3,4,5,6])\n",
        "print(a)\n",
        "b=a.resize(3,2)\n",
        "print(a)\n",
        "print(a.shape)\n",
        "print(b)"
      ],
      "metadata": {
        "colab": {
          "base_uri": "https://localhost:8080/"
        },
        "id": "iS7pG-RVeTfq",
        "outputId": "e284b6c8-d1eb-462b-a31e-81dd77f343bd"
      },
      "execution_count": null,
      "outputs": [
        {
          "output_type": "stream",
          "name": "stdout",
          "text": [
            "[1 2 3 4 5 6]\n",
            "[[1 2]\n",
            " [3 4]\n",
            " [5 6]]\n",
            "(3, 2)\n",
            "None\n"
          ]
        }
      ]
    },
    {
      "cell_type": "code",
      "source": [
        "import numpy as np\n",
        "a=np.array([1,2,3,7,8,9])\n",
        "x=a.resize(2,3)\n",
        "b=np.array([9,8,7,6,5,3])\n",
        "y=b.resize(2,3)\n",
        "z=np.vstack((a,b))\n",
        "print(a)\n",
        "print(z)\n",
        "print(z.shape)\n",
        "print(np.dstack((a,b)))\n"
      ],
      "metadata": {
        "id": "WtZC_nVUfjhf",
        "colab": {
          "base_uri": "https://localhost:8080/"
        },
        "outputId": "792d376a-4896-47c8-bf76-2e11228215c4"
      },
      "execution_count": null,
      "outputs": [
        {
          "output_type": "stream",
          "name": "stdout",
          "text": [
            "[[1 2 3]\n",
            " [7 8 9]]\n",
            "[[1 2 3]\n",
            " [7 8 9]\n",
            " [9 8 7]\n",
            " [6 5 3]]\n",
            "(4, 3)\n",
            "[[[1 9]\n",
            "  [2 8]\n",
            "  [3 7]]\n",
            "\n",
            " [[7 6]\n",
            "  [8 5]\n",
            "  [9 3]]]\n"
          ]
        }
      ]
    },
    {
      "cell_type": "code",
      "source": [
        "5/3"
      ],
      "metadata": {
        "colab": {
          "base_uri": "https://localhost:8080/"
        },
        "id": "X4iAChDLWkPy",
        "outputId": "b7d8a226-b38f-459e-bcde-f264ac09b14a"
      },
      "execution_count": null,
      "outputs": [
        {
          "output_type": "execute_result",
          "data": {
            "text/plain": [
              "1.6666666666666667"
            ]
          },
          "metadata": {},
          "execution_count": 4
        }
      ]
    },
    {
      "cell_type": "code",
      "source": [
        "n=8\n",
        "print(type(n))"
      ],
      "metadata": {
        "colab": {
          "base_uri": "https://localhost:8080/"
        },
        "id": "5q7cieHsXUjN",
        "outputId": "b6c3f263-27be-4d04-f729-e25636741eda"
      },
      "execution_count": null,
      "outputs": [
        {
          "output_type": "stream",
          "name": "stdout",
          "text": [
            "<class 'int'>\n"
          ]
        }
      ]
    },
    {
      "cell_type": "code",
      "source": [],
      "metadata": {
        "id": "00wrlxuKXjF4"
      },
      "execution_count": null,
      "outputs": []
    },
    {
      "cell_type": "code",
      "source": [
        "a=np.arange(30).reshape(2,3,5)\n",
        "print(a)\n",
        "print(np.dstack(a))"
      ],
      "metadata": {
        "colab": {
          "base_uri": "https://localhost:8080/"
        },
        "id": "dS2U_CNOhClj",
        "outputId": "5acc96b7-107d-4fbc-b945-a0bb8797d87f"
      },
      "execution_count": null,
      "outputs": [
        {
          "output_type": "stream",
          "name": "stdout",
          "text": [
            "[[[ 0  1  2  3  4]\n",
            "  [ 5  6  7  8  9]\n",
            "  [10 11 12 13 14]]\n",
            "\n",
            " [[15 16 17 18 19]\n",
            "  [20 21 22 23 24]\n",
            "  [25 26 27 28 29]]]\n",
            "[[[ 0 15]\n",
            "  [ 1 16]\n",
            "  [ 2 17]\n",
            "  [ 3 18]\n",
            "  [ 4 19]]\n",
            "\n",
            " [[ 5 20]\n",
            "  [ 6 21]\n",
            "  [ 7 22]\n",
            "  [ 8 23]\n",
            "  [ 9 24]]\n",
            "\n",
            " [[10 25]\n",
            "  [11 26]\n",
            "  [12 27]\n",
            "  [13 28]\n",
            "  [14 29]]]\n"
          ]
        }
      ]
    },
    {
      "cell_type": "markdown",
      "source": [
        "no. of rows become columns\n",
        "no. of columns become rows\n",
        "groups become rows\n",
        "group become columns"
      ],
      "metadata": {
        "id": "ssvBjQKlh9vx"
      }
    },
    {
      "cell_type": "code",
      "source": [
        "print(np.dstack(a))"
      ],
      "metadata": {
        "colab": {
          "base_uri": "https://localhost:8080/"
        },
        "id": "my9RRzhPhcJ9",
        "outputId": "93001dd6-26d7-4180-829a-47dbe108096d"
      },
      "execution_count": null,
      "outputs": [
        {
          "output_type": "stream",
          "name": "stdout",
          "text": [
            "[[[1 7]\n",
            "  [2 8]\n",
            "  [3 9]]]\n"
          ]
        }
      ]
    },
    {
      "cell_type": "code",
      "source": [
        "c=np.random.random((2,2))\n",
        "a=np.floor(np.random.random((2,12)))\n",
        "print(a)\n",
        "print(c)"
      ],
      "metadata": {
        "colab": {
          "base_uri": "https://localhost:8080/"
        },
        "id": "z79hziXYZyjs",
        "outputId": "7309452f-af0f-4c4e-8163-0ece2b6b7a5a"
      },
      "execution_count": null,
      "outputs": [
        {
          "output_type": "stream",
          "name": "stdout",
          "text": [
            "[[0. 0. 0. 0. 0. 0. 0. 0. 0. 0. 0. 0.]\n",
            " [0. 0. 0. 0. 0. 0. 0. 0. 0. 0. 0. 0.]]\n",
            "[[0.71154016 0.55406165]\n",
            " [0.84337802 0.51491546]]\n"
          ]
        }
      ]
    },
    {
      "cell_type": "code",
      "source": [
        "a=np.ceil(np.random.random((2,12)))\n",
        "print(a)"
      ],
      "metadata": {
        "colab": {
          "base_uri": "https://localhost:8080/"
        },
        "id": "JH3Dchf9cGYA",
        "outputId": "45cd7028-2905-452c-aa0c-24d078dc2030"
      },
      "execution_count": null,
      "outputs": [
        {
          "output_type": "stream",
          "name": "stdout",
          "text": [
            "[[1. 1. 1. 1. 1. 1. 1. 1. 1. 1. 1. 1.]\n",
            " [1. 1. 1. 1. 1. 1. 1. 1. 1. 1. 1. 1.]]\n"
          ]
        }
      ]
    },
    {
      "cell_type": "code",
      "source": [
        "a1=np.eye(4,dtype=int)\n",
        "print(a1)"
      ],
      "metadata": {
        "colab": {
          "base_uri": "https://localhost:8080/"
        },
        "id": "l4BMx8qKZST-",
        "outputId": "674817e8-511e-47b6-c50c-c222a81b0d79"
      },
      "execution_count": null,
      "outputs": [
        {
          "output_type": "stream",
          "name": "stdout",
          "text": [
            "[[1 0 0 0]\n",
            " [0 1 0 0]\n",
            " [0 0 1 0]\n",
            " [0 0 0 1]]\n"
          ]
        }
      ]
    },
    {
      "cell_type": "code",
      "source": [
        "a1=np.full((2,2),3)\n",
        "print(a1)\n",
        "print(a1.itemsize)"
      ],
      "metadata": {
        "colab": {
          "base_uri": "https://localhost:8080/"
        },
        "id": "lXBNeIhjZtbj",
        "outputId": "03f45bbe-29ba-4c45-a13c-da7a9db851bd"
      },
      "execution_count": null,
      "outputs": [
        {
          "output_type": "stream",
          "name": "stdout",
          "text": [
            "[[3 3]\n",
            " [3 3]]\n",
            "8\n"
          ]
        }
      ]
    },
    {
      "cell_type": "code",
      "source": [
        "x=[1,2,3]\n",
        "a=np.asarray(x)\n",
        "print(a)\n",
        "print(type(a))"
      ],
      "metadata": {
        "colab": {
          "base_uri": "https://localhost:8080/"
        },
        "id": "wBCSQ-z5aPtJ",
        "outputId": "2ad7b6fe-0354-41fa-be27-b25fe5c14f68"
      },
      "execution_count": null,
      "outputs": [
        {
          "output_type": "stream",
          "name": "stdout",
          "text": [
            "[1 2 3]\n",
            "<class 'numpy.ndarray'>\n"
          ]
        }
      ]
    },
    {
      "cell_type": "code",
      "source": [
        "x=np.array([1,4,0],float)\n",
        "y=np.array([2,2,1],float)\n",
        "#1*2=2+(4*2=8)+(0*1=0)=10.0inner\n",
        "print(np.inner(x,y))\n",
        "\n",
        "print(np.outer(x,y))\n",
        "print(np.cross(x,y))"
      ],
      "metadata": {
        "colab": {
          "base_uri": "https://localhost:8080/"
        },
        "id": "KQ1GHBf3arxH",
        "outputId": "d95f898e-9007-4465-d340-1d42f5d60f57"
      },
      "execution_count": null,
      "outputs": [
        {
          "output_type": "stream",
          "name": "stdout",
          "text": [
            "10.0\n",
            "[[2. 2. 1.]\n",
            " [8. 8. 4.]\n",
            " [0. 0. 0.]]\n",
            "[ 4. -1. -6.]\n"
          ]
        }
      ]
    },
    {
      "cell_type": "code",
      "source": [
        "a=np.array([1.1,2.3,4.5,6.7,8.9,9.7,6.8])\n",
        "#round figure\n",
        "np.rint(a)"
      ],
      "metadata": {
        "colab": {
          "base_uri": "https://localhost:8080/"
        },
        "id": "vYOUbXv9c9fL",
        "outputId": "241379b2-536e-4fb8-bc6e-025893d7858b"
      },
      "execution_count": null,
      "outputs": [
        {
          "output_type": "execute_result",
          "data": {
            "text/plain": [
              "array([ 1.,  2.,  4.,  7.,  9., 10.,  7.])"
            ]
          },
          "metadata": {},
          "execution_count": 11
        }
      ]
    },
    {
      "cell_type": "code",
      "source": [
        "a=np.array([2,3,5,7,11])\n",
        "b=np.array([1,4,6,8,9])\n",
        "np.true_divide(a,b)"
      ],
      "metadata": {
        "colab": {
          "base_uri": "https://localhost:8080/"
        },
        "id": "Fw3d-s4jdcxk",
        "outputId": "880a74e3-9c43-49e8-c72b-d6aa08c848a6"
      },
      "execution_count": null,
      "outputs": [
        {
          "output_type": "execute_result",
          "data": {
            "text/plain": [
              "array([2.        , 0.75      , 0.83333333, 0.875     , 1.22222222])"
            ]
          },
          "metadata": {},
          "execution_count": 2
        }
      ]
    },
    {
      "cell_type": "code",
      "source": [
        "a=np.array([1,1,1,2,2,3,3])\n",
        "np.unique(a)"
      ],
      "metadata": {
        "colab": {
          "base_uri": "https://localhost:8080/"
        },
        "id": "dTgjsxHPeR1F",
        "outputId": "5b1bc748-b6a8-416a-9aa3-6f38e01ad550"
      },
      "execution_count": null,
      "outputs": [
        {
          "output_type": "execute_result",
          "data": {
            "text/plain": [
              "array([1, 2, 3])"
            ]
          },
          "metadata": {},
          "execution_count": 14
        }
      ]
    },
    {
      "cell_type": "code",
      "source": [
        "a=np.array([[1,8],[3,7]])\n",
        "b=np.array([[5,6],[7,8]])\n",
        "np.setdiff1d(a,b)"
      ],
      "metadata": {
        "colab": {
          "base_uri": "https://localhost:8080/"
        },
        "id": "0E7xJTYzepNJ",
        "outputId": "436f1aa8-96e3-4b49-d3eb-0583108d4580"
      },
      "execution_count": null,
      "outputs": [
        {
          "output_type": "execute_result",
          "data": {
            "text/plain": [
              "array([1, 3])"
            ]
          },
          "metadata": {},
          "execution_count": 8
        }
      ]
    },
    {
      "cell_type": "code",
      "source": [
        "s=np.sin(0)\n",
        "print(s)"
      ],
      "metadata": {
        "colab": {
          "base_uri": "https://localhost:8080/"
        },
        "id": "mI4TC_EchXNO",
        "outputId": "1c33c55f-89a8-4708-d2f7-cbde5cf5677b"
      },
      "execution_count": null,
      "outputs": [
        {
          "output_type": "stream",
          "name": "stdout",
          "text": [
            "0.0\n"
          ]
        }
      ]
    },
    {
      "cell_type": "code",
      "source": [
        "a=np.array([[1,2],[3,4]])\n",
        "b=np.array([[9,5],[7,7]])\n",
        "np.setdiff1d(a,b)"
      ],
      "metadata": {
        "colab": {
          "base_uri": "https://localhost:8080/"
        },
        "id": "9UEqcnK0fLvS",
        "outputId": "5203e463-0360-4e78-b0b9-6948f58d70bc"
      },
      "execution_count": null,
      "outputs": [
        {
          "output_type": "execute_result",
          "data": {
            "text/plain": [
              "array([1, 2, 3, 4])"
            ]
          },
          "metadata": {},
          "execution_count": 50
        }
      ]
    },
    {
      "cell_type": "code",
      "source": [
        "a=8\n",
        "b=6\n",
        "c=np.hypot(a,b)\n",
        "print(c)"
      ],
      "metadata": {
        "colab": {
          "base_uri": "https://localhost:8080/"
        },
        "id": "g4pWz4X-hA8V",
        "outputId": "90b7709e-8a78-4085-8e61-dc20c6234908"
      },
      "execution_count": null,
      "outputs": [
        {
          "output_type": "stream",
          "name": "stdout",
          "text": [
            "10.0\n"
          ]
        }
      ]
    },
    {
      "cell_type": "code",
      "source": [
        "a=np.array([10,21,30,40,50,60])\n",
        "b=np.array([20,21,2,20,25,25])\n",
        "c=np.divmod(a,b)\n",
        "print(c)"
      ],
      "metadata": {
        "colab": {
          "base_uri": "https://localhost:8080/"
        },
        "id": "iE-wFczFhS2U",
        "outputId": "e81c0772-cac4-41eb-f5fe-f27e59d40ac6"
      },
      "execution_count": null,
      "outputs": [
        {
          "output_type": "stream",
          "name": "stdout",
          "text": [
            "(array([ 0,  1, 15,  2,  2,  2]), array([10,  0,  0,  0,  0, 10]))\n"
          ]
        }
      ]
    },
    {
      "cell_type": "code",
      "source": [
        "a=np.array([10,21,30,40,50,60])\n",
        "b=np.array([20,21,2,20,25,25])\n",
        "c=np.mod(a,b)\n",
        "print(c)"
      ],
      "metadata": {
        "colab": {
          "base_uri": "https://localhost:8080/"
        },
        "id": "UIckVridifPE",
        "outputId": "88a729f6-676d-43aa-9cdc-7a6b486a9dd0"
      },
      "execution_count": null,
      "outputs": [
        {
          "output_type": "stream",
          "name": "stdout",
          "text": [
            "[10  0  0  0  0 10]\n"
          ]
        }
      ]
    },
    {
      "cell_type": "code",
      "source": [
        "a=np.array([10,21,30,40,50,60])\n",
        "b=np.array([20,21,2,20,25,25])\n",
        "c=np.divide(a,b)\n",
        "print(c)"
      ],
      "metadata": {
        "colab": {
          "base_uri": "https://localhost:8080/"
        },
        "id": "9bLHzdmPinCJ",
        "outputId": "99346a34-c634-4c27-81d5-b689006585cf"
      },
      "execution_count": null,
      "outputs": [
        {
          "output_type": "stream",
          "name": "stdout",
          "text": [
            "[ 0.5  1.  15.   2.   2.   2.4]\n"
          ]
        }
      ]
    },
    {
      "cell_type": "code",
      "source": [
        "a=np.array([10,21,30,40,50,60])\n",
        "b=np.array([20,21,2,20,25,25])\n",
        "c=np.multiply(a,b)\n",
        "print(c)"
      ],
      "metadata": {
        "colab": {
          "base_uri": "https://localhost:8080/"
        },
        "id": "bXNe1zzni-2Q",
        "outputId": "b728b0e6-b786-4776-acf5-d424ecda62b2"
      },
      "execution_count": null,
      "outputs": [
        {
          "output_type": "stream",
          "name": "stdout",
          "text": [
            "[ 200  441   60  800 1250 1500]\n"
          ]
        }
      ]
    },
    {
      "cell_type": "code",
      "source": [
        "a=np.array([10,21,30,40,50,60])\n",
        "b=np.array([20,21,2,20,25,25])\n",
        "c=np.inner(a,b)\n",
        "print(c)"
      ],
      "metadata": {
        "colab": {
          "base_uri": "https://localhost:8080/"
        },
        "id": "pzXBeXO9jKVR",
        "outputId": "56728cba-29df-41cb-b135-2d674d6b0a3b"
      },
      "execution_count": null,
      "outputs": [
        {
          "output_type": "stream",
          "name": "stdout",
          "text": [
            "4251\n"
          ]
        }
      ]
    },
    {
      "cell_type": "code",
      "source": [
        "from numpy import random\n",
        "x=random.normal(size=(2,3))\n",
        "#.normal->gaussian distribution\n",
        "print(x)"
      ],
      "metadata": {
        "colab": {
          "base_uri": "https://localhost:8080/"
        },
        "id": "z3gsjRiujSz6",
        "outputId": "31ad7db4-0ef1-42a5-8d5f-aa4199397a18"
      },
      "execution_count": null,
      "outputs": [
        {
          "output_type": "stream",
          "name": "stdout",
          "text": [
            "[[ 1.65682114  1.44903639 -2.0193243 ]\n",
            " [ 1.61016439  0.32122898  1.56509338]]\n"
          ]
        }
      ]
    },
    {
      "cell_type": "markdown",
      "source": [],
      "metadata": {
        "id": "re7ixZuMlaus"
      }
    },
    {
      "cell_type": "code",
      "source": [
        "x=random.binomial(n=12,p=0.5,size=10)\n",
        "print(x)"
      ],
      "metadata": {
        "colab": {
          "base_uri": "https://localhost:8080/"
        },
        "id": "8Gv2hX2PloOQ",
        "outputId": "1c2ffe5a-abf2-474a-914e-8ac0f6cbe6e5"
      },
      "execution_count": null,
      "outputs": [
        {
          "output_type": "stream",
          "name": "stdout",
          "text": [
            "[4 7 8 4 6 9 6 6 6 6]\n"
          ]
        }
      ]
    },
    {
      "cell_type": "code",
      "source": [
        "x=random.poisson(lam=2,size=10)\n",
        "print(x)"
      ],
      "metadata": {
        "colab": {
          "base_uri": "https://localhost:8080/"
        },
        "id": "3BqHO-xTmApm",
        "outputId": "b981de09-0e17-4d38-8800-fa5e574f3b88"
      },
      "execution_count": null,
      "outputs": [
        {
          "output_type": "stream",
          "name": "stdout",
          "text": [
            "[0 4 1 3 4 4 1 4 5 3]\n"
          ]
        }
      ]
    },
    {
      "cell_type": "code",
      "source": [
        "x=random.choice([1,2,6,7,8])\n",
        "print(x)"
      ],
      "metadata": {
        "colab": {
          "base_uri": "https://localhost:8080/"
        },
        "id": "GAbko05wmWqA",
        "outputId": "04171971-a66a-404a-d0b7-2dc26df0989a"
      },
      "execution_count": null,
      "outputs": [
        {
          "output_type": "stream",
          "name": "stdout",
          "text": [
            "1\n"
          ]
        }
      ]
    },
    {
      "cell_type": "code",
      "source": [
        "from numpy import random\n",
        "s=random.choice([3,5],p=[0.9,0.1],size=(3,5))\n",
        "print(s)"
      ],
      "metadata": {
        "colab": {
          "base_uri": "https://localhost:8080/"
        },
        "id": "IHXAssO8ml-E",
        "outputId": "4f40a3c1-590d-41e2-bc85-b4399a646b2f"
      },
      "execution_count": null,
      "outputs": [
        {
          "output_type": "stream",
          "name": "stdout",
          "text": [
            "[[5 3 3 3 3]\n",
            " [3 3 3 3 5]\n",
            " [3 3 3 3 3]]\n"
          ]
        }
      ]
    },
    {
      "cell_type": "code",
      "source": [
        "x=random.normal(loc=1,scale=2,size=(2,3))\n",
        "#loc->mean\n",
        "#scale->standard deviation\n",
        "print(x)"
      ],
      "metadata": {
        "colab": {
          "base_uri": "https://localhost:8080/"
        },
        "id": "urYvX15fjuYj",
        "outputId": "34e6a753-9561-433a-cfed-8880ef291824"
      },
      "execution_count": null,
      "outputs": [
        {
          "output_type": "stream",
          "name": "stdout",
          "text": [
            "[[ 3.45928994  3.35142479 -0.52675133]\n",
            " [-1.77887246 -0.92334165 -0.12126666]]\n"
          ]
        }
      ]
    },
    {
      "cell_type": "code",
      "source": [
        "a=np.array([[1,7],[3,4]])\n",
        "b=np.array([[9,5],[7,7]])\n",
        "np.intersect1d(a,b)"
      ],
      "metadata": {
        "colab": {
          "base_uri": "https://localhost:8080/"
        },
        "id": "19c2uOB2gyh4",
        "outputId": "2a847742-60f5-4088-f21f-0e6d45f72e0e"
      },
      "execution_count": null,
      "outputs": [
        {
          "output_type": "execute_result",
          "data": {
            "text/plain": [
              "array([7])"
            ]
          },
          "metadata": {},
          "execution_count": 30
        }
      ]
    }
  ]
}